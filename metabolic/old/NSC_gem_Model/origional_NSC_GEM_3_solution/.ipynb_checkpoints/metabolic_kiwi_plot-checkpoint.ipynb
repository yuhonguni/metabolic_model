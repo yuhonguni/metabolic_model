{
 "cells": [
  {
   "cell_type": "code",
   "execution_count": 1,
   "metadata": {},
   "outputs": [],
   "source": [
    "import kiwi"
   ]
  },
  {
   "cell_type": "code",
   "execution_count": 5,
   "metadata": {},
   "outputs": [
    {
     "ename": "NameError",
     "evalue": "No metabolites passed the pCutoff",
     "output_type": "error",
     "traceback": [
      "\u001b[0;31m---------------------------------------------------------------------------\u001b[0m",
      "\u001b[0;31mNameError\u001b[0m                                 Traceback (most recent call last)",
      "\u001b[0;32m<ipython-input-5-cb835d8a4b13>\u001b[0m in \u001b[0;36m<module>\u001b[0;34m()\u001b[0m\n\u001b[1;32m      1\u001b[0m kiwi.plot(gsn='kiwi/kiwi_meta_inter_name.txt', gss='kiwi/GSS_kiwi_cp2a_gs.txt',\n\u001b[0;32m----> 2\u001b[0;31m             gls='kiwi/GLS_kiwi_cp2a_gs.txt', gsc='kiwi/GSC_kiwi_cp2a_gs.txt')\n\u001b[0m",
      "\u001b[0;32m/home/yu/.local/lib/python2.7/site-packages/kiwi/kiwi_module.pyc\u001b[0m in \u001b[0;36mplot\u001b[0;34m(gsn, gss, gsc, gls, pc, adj, gsz, deg, spl, sae, lmp, nsz, eds, lbs, hmt, cft, ctt, csp, nwf, hmf, gml)\u001b[0m\n\u001b[1;32m    230\u001b[0m     \u001b[0mM\u001b[0m\u001b[0;34m.\u001b[0m\u001b[0mremoveNotSignificantMetabolites\u001b[0m\u001b[0;34m(\u001b[0m\u001b[0mpcutoff\u001b[0m\u001b[0;34m,\u001b[0m\u001b[0mnonPiano\u001b[0m\u001b[0;34m)\u001b[0m\u001b[0;34m\u001b[0m\u001b[0m\n\u001b[1;32m    231\u001b[0m     \u001b[0;32mif\u001b[0m \u001b[0mlen\u001b[0m\u001b[0;34m(\u001b[0m\u001b[0mM\u001b[0m\u001b[0;34m.\u001b[0m\u001b[0mmetaboliteList\u001b[0m\u001b[0;34m)\u001b[0m\u001b[0;34m==\u001b[0m\u001b[0;36m0\u001b[0m\u001b[0;34m:\u001b[0m\u001b[0;34m\u001b[0m\u001b[0m\n\u001b[0;32m--> 232\u001b[0;31m         \u001b[0;32mraise\u001b[0m \u001b[0mNameError\u001b[0m\u001b[0;34m(\u001b[0m\u001b[0;34m'No metabolites passed the pCutoff'\u001b[0m\u001b[0;34m)\u001b[0m\u001b[0;34m\u001b[0m\u001b[0m\n\u001b[0m\u001b[1;32m    233\u001b[0m     \u001b[0mM\u001b[0m\u001b[0;34m.\u001b[0m\u001b[0mremoveMetabolitesNotInMetNet\u001b[0m\u001b[0;34m(\u001b[0m\u001b[0mMN\u001b[0m\u001b[0;34m)\u001b[0m\u001b[0;34m\u001b[0m\u001b[0m\n\u001b[1;32m    234\u001b[0m     \u001b[0;32mif\u001b[0m \u001b[0mlen\u001b[0m\u001b[0;34m(\u001b[0m\u001b[0mM\u001b[0m\u001b[0;34m.\u001b[0m\u001b[0mmetaboliteList\u001b[0m\u001b[0;34m)\u001b[0m\u001b[0;34m==\u001b[0m\u001b[0;36m0\u001b[0m\u001b[0;34m:\u001b[0m\u001b[0;34m\u001b[0m\u001b[0m\n",
      "\u001b[0;31mNameError\u001b[0m: No metabolites passed the pCutoff"
     ]
    }
   ],
   "source": [
    "kiwi.plot(gsn='kiwi/kiwi_meta_inter_name.txt', gss='kiwi/GSS_kiwi_cp2a_gs.txt',\n",
    "            gls='kiwi/GLS_kiwi_cp2a_gs.txt', gsc='kiwi/GSC_kiwi_cp2a_gs.txt')"
   ]
  },
  {
   "cell_type": "code",
   "execution_count": 6,
   "metadata": {},
   "outputs": [
    {
     "ename": "NameError",
     "evalue": "No metabolites passed the pCutoff",
     "output_type": "error",
     "traceback": [
      "\u001b[0;31m---------------------------------------------------------------------------\u001b[0m",
      "\u001b[0;31mNameError\u001b[0m                                 Traceback (most recent call last)",
      "\u001b[0;32m<ipython-input-6-cb835d8a4b13>\u001b[0m in \u001b[0;36m<module>\u001b[0;34m()\u001b[0m\n\u001b[1;32m      1\u001b[0m kiwi.plot(gsn='kiwi/kiwi_meta_inter_name.txt', gss='kiwi/GSS_kiwi_cp2a_gs.txt',\n\u001b[0;32m----> 2\u001b[0;31m             gls='kiwi/GLS_kiwi_cp2a_gs.txt', gsc='kiwi/GSC_kiwi_cp2a_gs.txt')\n\u001b[0m",
      "\u001b[0;32m/home/yu/.local/lib/python2.7/site-packages/kiwi/kiwi_module.pyc\u001b[0m in \u001b[0;36mplot\u001b[0;34m(gsn, gss, gsc, gls, pc, adj, gsz, deg, spl, sae, lmp, nsz, eds, lbs, hmt, cft, ctt, csp, nwf, hmf, gml)\u001b[0m\n\u001b[1;32m    230\u001b[0m     \u001b[0mM\u001b[0m\u001b[0;34m.\u001b[0m\u001b[0mremoveNotSignificantMetabolites\u001b[0m\u001b[0;34m(\u001b[0m\u001b[0mpcutoff\u001b[0m\u001b[0;34m,\u001b[0m\u001b[0mnonPiano\u001b[0m\u001b[0;34m)\u001b[0m\u001b[0;34m\u001b[0m\u001b[0m\n\u001b[1;32m    231\u001b[0m     \u001b[0;32mif\u001b[0m \u001b[0mlen\u001b[0m\u001b[0;34m(\u001b[0m\u001b[0mM\u001b[0m\u001b[0;34m.\u001b[0m\u001b[0mmetaboliteList\u001b[0m\u001b[0;34m)\u001b[0m\u001b[0;34m==\u001b[0m\u001b[0;36m0\u001b[0m\u001b[0;34m:\u001b[0m\u001b[0;34m\u001b[0m\u001b[0m\n\u001b[0;32m--> 232\u001b[0;31m         \u001b[0;32mraise\u001b[0m \u001b[0mNameError\u001b[0m\u001b[0;34m(\u001b[0m\u001b[0;34m'No metabolites passed the pCutoff'\u001b[0m\u001b[0;34m)\u001b[0m\u001b[0;34m\u001b[0m\u001b[0m\n\u001b[0m\u001b[1;32m    233\u001b[0m     \u001b[0mM\u001b[0m\u001b[0;34m.\u001b[0m\u001b[0mremoveMetabolitesNotInMetNet\u001b[0m\u001b[0;34m(\u001b[0m\u001b[0mMN\u001b[0m\u001b[0;34m)\u001b[0m\u001b[0;34m\u001b[0m\u001b[0m\n\u001b[1;32m    234\u001b[0m     \u001b[0;32mif\u001b[0m \u001b[0mlen\u001b[0m\u001b[0;34m(\u001b[0m\u001b[0mM\u001b[0m\u001b[0;34m.\u001b[0m\u001b[0mmetaboliteList\u001b[0m\u001b[0;34m)\u001b[0m\u001b[0;34m==\u001b[0m\u001b[0;36m0\u001b[0m\u001b[0;34m:\u001b[0m\u001b[0;34m\u001b[0m\u001b[0m\n",
      "\u001b[0;31mNameError\u001b[0m: No metabolites passed the pCutoff"
     ]
    }
   ],
   "source": [
    "kiwi.plot(gsn='kiwi/kiwi_meta_inter_name.txt', gss='kiwi/GSS_kiwi_cp2a_gs.txt',\n",
    "            gls='kiwi/GLS_kiwi_cp2a_gs.txt', gsc='kiwi/GSC_kiwi_cp2a_gs.txt')"
   ]
  }
 ],
 "metadata": {
  "kernelspec": {
   "display_name": "Python 2",
   "language": "python",
   "name": "python2"
  },
  "language_info": {
   "codemirror_mode": {
    "name": "ipython",
    "version": 2
   },
   "file_extension": ".py",
   "mimetype": "text/x-python",
   "name": "python",
   "nbconvert_exporter": "python",
   "pygments_lexer": "ipython2",
   "version": "2.7.17"
  }
 },
 "nbformat": 4,
 "nbformat_minor": 2
}
