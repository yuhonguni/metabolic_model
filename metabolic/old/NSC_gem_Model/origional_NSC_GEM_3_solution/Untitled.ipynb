{
 "cells": [
  {
   "cell_type": "code",
   "execution_count": 14,
   "metadata": {},
   "outputs": [],
   "source": [
    "import kiwi\n",
    "import matplotlib\n",
    "matplotlib.use('PDF')\n",
    "import itertools\n",
    "import matplotlib.pyplot as plt\n",
    "import numpy as np\n",
    "import networkx as nx\n",
    "import os"
   ]
  },
  {
   "cell_type": "code",
   "execution_count": 15,
   "metadata": {},
   "outputs": [
    {
     "ename": "NameError",
     "evalue": "No metabolites passed the pCutoff",
     "output_type": "error",
     "traceback": [
      "\u001b[0;31m---------------------------------------------------------------------------\u001b[0m",
      "\u001b[0;31mNameError\u001b[0m                                 Traceback (most recent call last)",
      "\u001b[0;32m<ipython-input-15-99e2a6070ce9>\u001b[0m in \u001b[0;36m<module>\u001b[0;34m\u001b[0m\n\u001b[1;32m      1\u001b[0m kiwi.plot(gsn='kiwi/kiwi_meta_inter_name.txt', \n\u001b[0;32m----> 2\u001b[0;31m           gss='kiwi/GSS_kiwi_cp2a_gs2.txt',adj=False)\n\u001b[0m",
      "\u001b[0;32m~/miniconda2/envs/meta_ne/lib/python3.6/site-packages/kiwi/kiwi_module.py\u001b[0m in \u001b[0;36mplot\u001b[0;34m(gsn, gss, gsc, gls, pc, adj, gsz, deg, spl, sae, lmp, nsz, eds, lbs, hmt, cft, ctt, csp, nwf, hmf, gml)\u001b[0m\n\u001b[1;32m    230\u001b[0m     \u001b[0mM\u001b[0m\u001b[0;34m.\u001b[0m\u001b[0mremoveNotSignificantMetabolites\u001b[0m\u001b[0;34m(\u001b[0m\u001b[0mpcutoff\u001b[0m\u001b[0;34m,\u001b[0m\u001b[0mnonPiano\u001b[0m\u001b[0;34m)\u001b[0m\u001b[0;34m\u001b[0m\u001b[0;34m\u001b[0m\u001b[0m\n\u001b[1;32m    231\u001b[0m     \u001b[0;32mif\u001b[0m \u001b[0mlen\u001b[0m\u001b[0;34m(\u001b[0m\u001b[0mM\u001b[0m\u001b[0;34m.\u001b[0m\u001b[0mmetaboliteList\u001b[0m\u001b[0;34m)\u001b[0m\u001b[0;34m==\u001b[0m\u001b[0;36m0\u001b[0m\u001b[0;34m:\u001b[0m\u001b[0;34m\u001b[0m\u001b[0;34m\u001b[0m\u001b[0m\n\u001b[0;32m--> 232\u001b[0;31m         \u001b[0;32mraise\u001b[0m \u001b[0mNameError\u001b[0m\u001b[0;34m(\u001b[0m\u001b[0;34m'No metabolites passed the pCutoff'\u001b[0m\u001b[0;34m)\u001b[0m\u001b[0;34m\u001b[0m\u001b[0;34m\u001b[0m\u001b[0m\n\u001b[0m\u001b[1;32m    233\u001b[0m     \u001b[0mM\u001b[0m\u001b[0;34m.\u001b[0m\u001b[0mremoveMetabolitesNotInMetNet\u001b[0m\u001b[0;34m(\u001b[0m\u001b[0mMN\u001b[0m\u001b[0;34m)\u001b[0m\u001b[0;34m\u001b[0m\u001b[0;34m\u001b[0m\u001b[0m\n\u001b[1;32m    234\u001b[0m     \u001b[0;32mif\u001b[0m \u001b[0mlen\u001b[0m\u001b[0;34m(\u001b[0m\u001b[0mM\u001b[0m\u001b[0;34m.\u001b[0m\u001b[0mmetaboliteList\u001b[0m\u001b[0;34m)\u001b[0m\u001b[0;34m==\u001b[0m\u001b[0;36m0\u001b[0m\u001b[0;34m:\u001b[0m\u001b[0;34m\u001b[0m\u001b[0;34m\u001b[0m\u001b[0m\n",
      "\u001b[0;31mNameError\u001b[0m: No metabolites passed the pCutoff"
     ]
    }
   ],
   "source": [
    "kiwi.plot(gsn='kiwi/kiwi_meta_inter_name.txt', \n",
    "          gss='kiwi/GSS_kiwi_cp2a_gs2.txt',adj=False)"
   ]
  },
  {
   "cell_type": "code",
   "execution_count": 17,
   "metadata": {},
   "outputs": [
    {
     "ename": "NameError",
     "evalue": "No metabolites passed the pCutoff",
     "output_type": "error",
     "traceback": [
      "\u001b[0;31m---------------------------------------------------------------------------\u001b[0m",
      "\u001b[0;31mNameError\u001b[0m                                 Traceback (most recent call last)",
      "\u001b[0;32m<ipython-input-17-d656b015c78f>\u001b[0m in \u001b[0;36m<module>\u001b[0;34m\u001b[0m\n\u001b[1;32m      2\u001b[0m           \u001b[0mgss\u001b[0m\u001b[0;34m=\u001b[0m\u001b[0;34m'kiwi_2/GSS_LUAD.txt'\u001b[0m\u001b[0;34m,\u001b[0m\u001b[0;34m\u001b[0m\u001b[0;34m\u001b[0m\u001b[0m\n\u001b[1;32m      3\u001b[0m           \u001b[0mgls\u001b[0m\u001b[0;34m=\u001b[0m\u001b[0;34m'kiwi_2/GLS_LUAD.txt'\u001b[0m\u001b[0;34m,\u001b[0m\u001b[0;34m\u001b[0m\u001b[0;34m\u001b[0m\u001b[0m\n\u001b[0;32m----> 4\u001b[0;31m           gsc='kiwi_2/GSC_LUAD.txt')\n\u001b[0m",
      "\u001b[0;32m~/miniconda2/envs/meta_ne/lib/python3.6/site-packages/kiwi/kiwi_module.py\u001b[0m in \u001b[0;36mplot\u001b[0;34m(gsn, gss, gsc, gls, pc, adj, gsz, deg, spl, sae, lmp, nsz, eds, lbs, hmt, cft, ctt, csp, nwf, hmf, gml)\u001b[0m\n\u001b[1;32m    230\u001b[0m     \u001b[0mM\u001b[0m\u001b[0;34m.\u001b[0m\u001b[0mremoveNotSignificantMetabolites\u001b[0m\u001b[0;34m(\u001b[0m\u001b[0mpcutoff\u001b[0m\u001b[0;34m,\u001b[0m\u001b[0mnonPiano\u001b[0m\u001b[0;34m)\u001b[0m\u001b[0;34m\u001b[0m\u001b[0;34m\u001b[0m\u001b[0m\n\u001b[1;32m    231\u001b[0m     \u001b[0;32mif\u001b[0m \u001b[0mlen\u001b[0m\u001b[0;34m(\u001b[0m\u001b[0mM\u001b[0m\u001b[0;34m.\u001b[0m\u001b[0mmetaboliteList\u001b[0m\u001b[0;34m)\u001b[0m\u001b[0;34m==\u001b[0m\u001b[0;36m0\u001b[0m\u001b[0;34m:\u001b[0m\u001b[0;34m\u001b[0m\u001b[0;34m\u001b[0m\u001b[0m\n\u001b[0;32m--> 232\u001b[0;31m         \u001b[0;32mraise\u001b[0m \u001b[0mNameError\u001b[0m\u001b[0;34m(\u001b[0m\u001b[0;34m'No metabolites passed the pCutoff'\u001b[0m\u001b[0;34m)\u001b[0m\u001b[0;34m\u001b[0m\u001b[0;34m\u001b[0m\u001b[0m\n\u001b[0m\u001b[1;32m    233\u001b[0m     \u001b[0mM\u001b[0m\u001b[0;34m.\u001b[0m\u001b[0mremoveMetabolitesNotInMetNet\u001b[0m\u001b[0;34m(\u001b[0m\u001b[0mMN\u001b[0m\u001b[0;34m)\u001b[0m\u001b[0;34m\u001b[0m\u001b[0;34m\u001b[0m\u001b[0m\n\u001b[1;32m    234\u001b[0m     \u001b[0;32mif\u001b[0m \u001b[0mlen\u001b[0m\u001b[0;34m(\u001b[0m\u001b[0mM\u001b[0m\u001b[0;34m.\u001b[0m\u001b[0mmetaboliteList\u001b[0m\u001b[0;34m)\u001b[0m\u001b[0;34m==\u001b[0m\u001b[0;36m0\u001b[0m\u001b[0;34m:\u001b[0m\u001b[0;34m\u001b[0m\u001b[0;34m\u001b[0m\u001b[0m\n",
      "\u001b[0;31mNameError\u001b[0m: No metabolites passed the pCutoff"
     ]
    }
   ],
   "source": [
    "kiwi.plot(gsn='kiwi_2/GSN.txt', \n",
    "          gss='kiwi_2/GSS_LUAD.txt', \n",
    "          gls='kiwi_2/GLS_LUAD.txt', \n",
    "          gsc='kiwi_2/GSC_LUAD.txt')"
   ]
  },
  {
   "cell_type": "code",
   "execution_count": null,
   "metadata": {},
   "outputs": [],
   "source": []
  }
 ],
 "metadata": {
  "kernelspec": {
   "display_name": "Python 3",
   "language": "python",
   "name": "python3"
  },
  "language_info": {
   "codemirror_mode": {
    "name": "ipython",
    "version": 3
   },
   "file_extension": ".py",
   "mimetype": "text/x-python",
   "name": "python",
   "nbconvert_exporter": "python",
   "pygments_lexer": "ipython3",
   "version": "3.6.10"
  }
 },
 "nbformat": 4,
 "nbformat_minor": 4
}
