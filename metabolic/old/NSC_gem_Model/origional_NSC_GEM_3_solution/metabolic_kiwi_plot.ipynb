{
 "cells": [
  {
   "cell_type": "code",
   "execution_count": 32,
   "metadata": {},
   "outputs": [],
   "source": [
    "import kiwi"
   ]
  },
  {
   "cell_type": "code",
   "execution_count": 33,
   "metadata": {},
   "outputs": [
    {
     "ename": "NameError",
     "evalue": "No metabolites passed the pCutoff",
     "output_type": "error",
     "traceback": [
      "\u001b[0;31m---------------------------------------------------------------------------\u001b[0m",
      "\u001b[0;31mNameError\u001b[0m                                 Traceback (most recent call last)",
      "\u001b[0;32m<ipython-input-33-150cf3af6412>\u001b[0m in \u001b[0;36m<module>\u001b[0;34m()\u001b[0m\n\u001b[1;32m      2\u001b[0m           \u001b[0mgss\u001b[0m\u001b[0;34m=\u001b[0m\u001b[0;34m'kiwi/GSS_kiwi_cp2a_gs.txt'\u001b[0m\u001b[0;34m,\u001b[0m\u001b[0;34m\u001b[0m\u001b[0m\n\u001b[1;32m      3\u001b[0m             \u001b[0mgls\u001b[0m\u001b[0;34m=\u001b[0m\u001b[0;34m'kiwi/GLS_kiwi_cp2a_gs.txt'\u001b[0m\u001b[0;34m,\u001b[0m\u001b[0;34m\u001b[0m\u001b[0m\n\u001b[0;32m----> 4\u001b[0;31m           gsc='kiwi/GSC_kiwi_cp2a_gs.txt')\n\u001b[0m",
      "\u001b[0;32m/home/yu/.local/lib/python2.7/site-packages/kiwi/kiwi_module.pyc\u001b[0m in \u001b[0;36mplot\u001b[0;34m(gsn, gss, gsc, gls, pc, adj, gsz, deg, spl, sae, lmp, nsz, eds, lbs, hmt, cft, ctt, csp, nwf, hmf, gml)\u001b[0m\n",
      "\u001b[0;31mNameError\u001b[0m: No metabolites passed the pCutoff"
     ]
    }
   ],
   "source": [
    "kiwi.plot(gsn='kiwi/kiwi_meta_inter_name.txt', \n",
    "          gss='kiwi/GSS_kiwi_cp2a_gs.txt',\n",
    "            gls='kiwi/GLS_kiwi_cp2a_gs.txt', \n",
    "          gsc='kiwi/GSC_kiwi_cp2a_gs.txt')"
   ]
  },
  {
   "cell_type": "code",
   "execution_count": null,
   "metadata": {},
   "outputs": [],
   "source": []
  },
  {
   "cell_type": "code",
   "execution_count": null,
   "metadata": {},
   "outputs": [],
   "source": []
  },
  {
   "cell_type": "code",
   "execution_count": null,
   "metadata": {},
   "outputs": [],
   "source": []
  }
 ],
 "metadata": {
  "kernelspec": {
   "display_name": "Python 2",
   "language": "python",
   "name": "python2"
  },
  "language_info": {
   "codemirror_mode": {
    "name": "ipython",
    "version": 2
   },
   "file_extension": ".py",
   "mimetype": "text/x-python",
   "name": "python",
   "nbconvert_exporter": "python",
   "pygments_lexer": "ipython2",
   "version": "2.7.17"
  }
 },
 "nbformat": 4,
 "nbformat_minor": 2
}
